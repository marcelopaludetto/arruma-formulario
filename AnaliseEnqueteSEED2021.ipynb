{
  "nbformat": 4,
  "nbformat_minor": 0,
  "metadata": {
    "colab": {
      "name": "AnaliseEnqueteSEED2021.ipynb",
      "provenance": [],
      "collapsed_sections": [],
      "authorship_tag": "ABX9TyPuQMMcdkCn7TfNcx2uTvnk",
      "include_colab_link": true
    },
    "kernelspec": {
      "name": "python3",
      "display_name": "Python 3"
    },
    "language_info": {
      "name": "python"
    }
  },
  "cells": [
    {
      "cell_type": "markdown",
      "metadata": {
        "id": "view-in-github",
        "colab_type": "text"
      },
      "source": [
        "<a href=\"https://colab.research.google.com/github/marcelopaludetto/arruma-formulario/blob/main/AnaliseEnqueteSEED2021.ipynb\" target=\"_parent\"><img src=\"https://colab.research.google.com/assets/colab-badge.svg\" alt=\"Open In Colab\"/></a>"
      ]
    },
    {
      "cell_type": "markdown",
      "source": [
        "# Tratandos os primeiros dados"
      ],
      "metadata": {
        "id": "3FDrKAwkf2Om"
      }
    },
    {
      "cell_type": "code",
      "metadata": {
        "id": "F56V0aR7XyLx"
      },
      "source": [
        "import pandas as pd"
      ],
      "execution_count": 85,
      "outputs": []
    },
    {
      "cell_type": "code",
      "metadata": {
        "id": "2bI2UrNaX-7n"
      },
      "source": [
        "dados = pd.read_csv('https://raw.githubusercontent.com/marcelopaludetto/arruma-formulario/main/%5B2021_10_18%5D%20-%20Professores%20%20(Responses)%20-%20Form%20Responses%201.csv')"
      ],
      "execution_count": 86,
      "outputs": []
    },
    {
      "cell_type": "markdown",
      "source": [
        "Retirando acentos e caracteres especiais para facilitar as queries e variáveis"
      ],
      "metadata": {
        "id": "KXMfa4DqLZXb"
      }
    },
    {
      "cell_type": "code",
      "metadata": {
        "id": "-fEKzrEVYEAv"
      },
      "source": [
        "dados.columns = dados.columns.str.replace(' ','_')\n",
        "dados.columns = dados.columns.str.replace(')','')\n",
        "dados.columns = dados.columns.str.replace('é','e')\n",
        "dados.columns = dados.columns.str.replace('á','a')\n",
        "dados.columns = dados.columns.str.replace('ê','e')\n",
        "dados.columns = dados.columns.str.replace('?','')\n",
        "dados.columns = dados.columns.str.replace('(','')\n",
        "dados.columns = dados.columns.str.replace('.','')"
      ],
      "execution_count": 87,
      "outputs": []
    },
    {
      "cell_type": "markdown",
      "source": [
        "Analisando os números de cada programa e separando em duas variáveis"
      ],
      "metadata": {
        "id": "1rU8haXCLfeJ"
      }
    },
    {
      "cell_type": "code",
      "metadata": {
        "colab": {
          "base_uri": "https://localhost:8080/"
        },
        "id": "vsw_V-hMbcCD",
        "outputId": "3d41caf7-ccbd-42b6-87a6-c0ed8ba874e3"
      },
      "source": [
        "dados.Voce_e_professor_de_qual_programa.value_counts()"
      ],
      "execution_count": 88,
      "outputs": [
        {
          "output_type": "execute_result",
          "data": {
            "text/plain": [
              "Ensino de Tempo Integral    109\n",
              "Edutech                      83\n",
              "Name: Voce_e_professor_de_qual_programa, dtype: int64"
            ]
          },
          "metadata": {},
          "execution_count": 88
        }
      ]
    },
    {
      "cell_type": "code",
      "metadata": {
        "id": "j74peG2bdEi4"
      },
      "source": [
        "EdutechDados = dados.query(\"Voce_e_professor_de_qual_programa == 'Edutech'\")\n",
        "ETIDados = dados.query(\"Voce_e_professor_de_qual_programa == 'Ensino de Tempo Integral'\")"
      ],
      "execution_count": 89,
      "outputs": []
    },
    {
      "cell_type": "markdown",
      "source": [
        "# Edutech - Organizando informações"
      ],
      "metadata": {
        "id": "M9xgiOh4D85Y"
      }
    },
    {
      "cell_type": "code",
      "metadata": {
        "colab": {
          "base_uri": "https://localhost:8080/"
        },
        "id": "wAp5YwWAe0JP",
        "outputId": "ad1ccf88-d8fd-4354-e44f-d22920a98deb"
      },
      "source": [
        "Formadores = EdutechDados.Quem_e_o_seu_Professora_formadora.value_counts()\n",
        "Formadores"
      ],
      "execution_count": 90,
      "outputs": [
        {
          "output_type": "execute_result",
          "data": {
            "text/plain": [
              "Heliton dos Reis Schnekemberg    20\n",
              "Alexandre Braga                  18\n",
              "Neucilene Cabral de Almeida      17\n",
              "Rodrigo de Oliveira Gonçalves    15\n",
              "William de Moura Bueno Vidal     13\n",
              "Name: Quem_e_o_seu_Professora_formadora, dtype: int64"
            ]
          },
          "metadata": {},
          "execution_count": 90
        }
      ]
    },
    {
      "cell_type": "markdown",
      "source": [
        "## Coleta info de Games 1"
      ],
      "metadata": {
        "id": "kcHHqr3qkDmK"
      }
    },
    {
      "cell_type": "code",
      "source": [
        "aux = EdutechDados.Voce_esta_participando_da_formação.notna()\n",
        "aux = EdutechDados[aux].dropna(axis=1)\n",
        "print(len(aux))"
      ],
      "metadata": {
        "colab": {
          "base_uri": "https://localhost:8080/"
        },
        "id": "gViXAhwGjjH8",
        "outputId": "b20bebb3-50c3-4ff8-8a6b-7b6d20ca5e07"
      },
      "execution_count": 91,
      "outputs": [
        {
          "output_type": "stream",
          "name": "stdout",
          "text": [
            "30\n"
          ]
        }
      ]
    },
    {
      "cell_type": "markdown",
      "source": [
        "## Coleta info de Games2"
      ],
      "metadata": {
        "id": "EVFlDLd_kI82"
      }
    },
    {
      "cell_type": "code",
      "source": [
        "aux2 = EdutechDados.Quais_cursos_voce_teve_mais_dificuldade_de_ensinar_para_os_alunos1.notna()\n",
        "aux2 = EdutechDados[aux2].dropna(axis=1)\n",
        "aux2.columns = aux2.columns.str.replace('1','')\n",
        "print(len(aux2))"
      ],
      "metadata": {
        "colab": {
          "base_uri": "https://localhost:8080/"
        },
        "id": "40vjd3EukCol",
        "outputId": "9f40f45d-9e43-4597-8408-feb6efe2c50b"
      },
      "execution_count": 92,
      "outputs": [
        {
          "output_type": "stream",
          "name": "stdout",
          "text": [
            "18\n"
          ]
        }
      ]
    },
    {
      "cell_type": "markdown",
      "source": [
        "## Coleta info de FrontEnd"
      ],
      "metadata": {
        "id": "OzLU6JxjkYso"
      }
    },
    {
      "cell_type": "code",
      "source": [
        "aux3 = EdutechDados.Voce_esta_participando_da_formação2.notna()\n",
        "aux3 = EdutechDados[aux3].dropna(axis=1)\n",
        "aux3.columns = aux3.columns.str.replace('2','')\n",
        "print(len(aux3))"
      ],
      "metadata": {
        "id": "TKb5VH3FjjC2",
        "colab": {
          "base_uri": "https://localhost:8080/"
        },
        "outputId": "79ec00dc-01d5-4993-df1c-a0cce15c82f9"
      },
      "execution_count": 93,
      "outputs": [
        {
          "output_type": "stream",
          "name": "stdout",
          "text": [
            "14\n"
          ]
        }
      ]
    },
    {
      "cell_type": "markdown",
      "source": [
        "## Coleta info de Mobile "
      ],
      "metadata": {
        "id": "gYpUTXp4Hi9M"
      }
    },
    {
      "cell_type": "code",
      "source": [
        "aux4 = EdutechDados.Voce_esta_participando_da_formação3.notna()\n",
        "aux4 = EdutechDados[aux4].dropna(axis=1)\n",
        "aux4.columns = aux4.columns.str.replace('3','')\n",
        "print(len(aux4))"
      ],
      "metadata": {
        "id": "Tx8s8Ysvf1-D",
        "colab": {
          "base_uri": "https://localhost:8080/"
        },
        "outputId": "7463142c-8f48-4398-ec5e-b6840213bc79"
      },
      "execution_count": 94,
      "outputs": [
        {
          "output_type": "stream",
          "name": "stdout",
          "text": [
            "9\n"
          ]
        }
      ]
    },
    {
      "cell_type": "markdown",
      "source": [
        "## Coleta info de DataScience"
      ],
      "metadata": {
        "id": "GOQqi4U4Hz5E"
      }
    },
    {
      "cell_type": "code",
      "source": [
        "aux5 = EdutechDados.Voce_esta_participando_da_formação4.notna()\n",
        "aux5 = EdutechDados[aux5].dropna(axis=1)\n",
        "aux5.columns = aux5.columns.str.replace('4','')\n",
        "print(len(aux5))"
      ],
      "metadata": {
        "colab": {
          "base_uri": "https://localhost:8080/"
        },
        "id": "1_iuCKhCH27A",
        "outputId": "d6290e9f-4714-4186-b314-e5661fbfbe7d"
      },
      "execution_count": 95,
      "outputs": [
        {
          "output_type": "stream",
          "name": "stdout",
          "text": [
            "2\n"
          ]
        }
      ]
    },
    {
      "cell_type": "markdown",
      "source": [
        "## Coleta info de Python"
      ],
      "metadata": {
        "id": "j63tGko-H8ao"
      }
    },
    {
      "cell_type": "code",
      "source": [
        "aux6 = EdutechDados.Voce_esta_participando_da_formação5.notna()\n",
        "aux6 = EdutechDados[aux6].dropna(axis=1)\n",
        "aux6.columns = aux6.columns.str.replace('5','')\n",
        "print(len(aux6))"
      ],
      "metadata": {
        "colab": {
          "base_uri": "https://localhost:8080/"
        },
        "id": "FaQ60cnRH7-F",
        "outputId": "cca87985-9a8c-4699-df9c-bcfa9bd3aa80"
      },
      "execution_count": 96,
      "outputs": [
        {
          "output_type": "stream",
          "name": "stdout",
          "text": [
            "7\n"
          ]
        }
      ]
    },
    {
      "cell_type": "markdown",
      "source": [
        "## Coleta de info de Java"
      ],
      "metadata": {
        "id": "SUHkqaIxIHsK"
      }
    },
    {
      "cell_type": "code",
      "source": [
        "aux7 = EdutechDados.Voce_esta_participando_da_formação6.notna()\n",
        "aux7 = EdutechDados[aux7].dropna(axis=1)\n",
        "aux7.columns = aux7.columns.str.replace('6','')\n",
        "print(len(aux7))"
      ],
      "metadata": {
        "colab": {
          "base_uri": "https://localhost:8080/"
        },
        "id": "BWTzCVbMIHfl",
        "outputId": "95bcf38f-b3bb-4060-9917-de3c5eabbb36"
      },
      "execution_count": 97,
      "outputs": [
        {
          "output_type": "stream",
          "name": "stdout",
          "text": [
            "3\n"
          ]
        }
      ]
    },
    {
      "cell_type": "markdown",
      "source": [
        "## Juntando todas as infos do Edutech"
      ],
      "metadata": {
        "id": "dJRJeaoKIVve"
      }
    },
    {
      "cell_type": "code",
      "source": [
        "Edutech = pd.concat([aux,aux2,aux3,aux4,aux5,aux6,aux7])\n",
        "Edutech.columns"
      ],
      "metadata": {
        "colab": {
          "base_uri": "https://localhost:8080/"
        },
        "id": "kSIYeLEGefg2",
        "outputId": "3428eea9-55b5-49d7-bfe5-be540e99ebbb"
      },
      "execution_count": 98,
      "outputs": [
        {
          "output_type": "execute_result",
          "data": {
            "text/plain": [
              "Index(['Timestamp', 'Email_Address', 'Voce_e_professor_de_qual_programa',\n",
              "       'Quem_e_o_seu_Professora_formadora',\n",
              "       'Qual_e_a_trilha_que_voce_e_professora_',\n",
              "       'Voce_esta_participando_da_formação',\n",
              "       'Quais_são_as_suas_principais_dificuldades_nas_aulas_',\n",
              "       'Quais_cursos_voce_teve_mais_dificuldade_de_ensinar_para_os_alunos',\n",
              "       'Em_media,_quantos_alunos_participam_da_sua_meet_por_turma',\n",
              "       'Ate_qual_curso_foi_conseguiu_avançar_com_os_seus_alunos',\n",
              "       'O_que_achou_de_trabalhar_em_um_formato_remoto_',\n",
              "       'O_que_gostaria_de_aprender_nas_formações_do_próximo_ano',\n",
              "       'Qual_a_tua_opinião_sobre_a_Plataforma_Alura',\n",
              "       'O_que_sente_falta_na_Plataforma_Alura',\n",
              "       'Na_sua_visão,_qual_o_papel_da_Alura_no_Edutech',\n",
              "       'Voce_utilizou_em_algum_momento_os_canais_de_contato_da_Alura,_se_sim,_como_foi_esse_atendimento',\n",
              "       'Voce_aceita_participar_de_uma_conversa_remota_com_a_equipe_da_Alura',\n",
              "       'Se_sim,_como_esta_sendo_sua_formação_Ela_te_ajuda_nas_aulas'],\n",
              "      dtype='object')"
            ]
          },
          "metadata": {},
          "execution_count": 98
        }
      ]
    },
    {
      "cell_type": "markdown",
      "source": [
        "### Gerar arquivo final .xlsx"
      ],
      "metadata": {
        "id": "yF8vPuldK9GC"
      }
    },
    {
      "cell_type": "code",
      "source": [
        "Edutech.to_excel('EdutechFormularioProfessores.xlsx')"
      ],
      "metadata": {
        "id": "eSpES4CAJjj-"
      },
      "execution_count": 99,
      "outputs": []
    },
    {
      "cell_type": "markdown",
      "source": [
        "# ETI - Organizando informações"
      ],
      "metadata": {
        "id": "ire0FYwxOLkY"
      }
    },
    {
      "cell_type": "code",
      "source": [
        "ETI = ETIDados.dropna(axis=1)"
      ],
      "metadata": {
        "id": "8TmIsFSwJnH9"
      },
      "execution_count": 100,
      "outputs": []
    },
    {
      "cell_type": "code",
      "source": [
        "ETI.to_excel('ETIFormularioProfessores.xlsx')"
      ],
      "metadata": {
        "colab": {
          "base_uri": "https://localhost:8080/",
          "height": 17
        },
        "id": "kQOj5X7DPpms",
        "outputId": "fe4f1ca1-154d-48b8-e48b-3c358033920f"
      },
      "execution_count": 101,
      "outputs": [
        {
          "output_type": "display_data",
          "data": {
            "application/javascript": [
              "\n",
              "    async function download(id, filename, size) {\n",
              "      if (!google.colab.kernel.accessAllowed) {\n",
              "        return;\n",
              "      }\n",
              "      const div = document.createElement('div');\n",
              "      const label = document.createElement('label');\n",
              "      label.textContent = `Downloading \"${filename}\": `;\n",
              "      div.appendChild(label);\n",
              "      const progress = document.createElement('progress');\n",
              "      progress.max = size;\n",
              "      div.appendChild(progress);\n",
              "      document.body.appendChild(div);\n",
              "\n",
              "      const buffers = [];\n",
              "      let downloaded = 0;\n",
              "\n",
              "      const channel = await google.colab.kernel.comms.open(id);\n",
              "      // Send a message to notify the kernel that we're ready.\n",
              "      channel.send({})\n",
              "\n",
              "      for await (const message of channel.messages) {\n",
              "        // Send a message to notify the kernel that we're ready.\n",
              "        channel.send({})\n",
              "        if (message.buffers) {\n",
              "          for (const buffer of message.buffers) {\n",
              "            buffers.push(buffer);\n",
              "            downloaded += buffer.byteLength;\n",
              "            progress.value = downloaded;\n",
              "          }\n",
              "        }\n",
              "      }\n",
              "      const blob = new Blob(buffers, {type: 'application/binary'});\n",
              "      const a = document.createElement('a');\n",
              "      a.href = window.URL.createObjectURL(blob);\n",
              "      a.download = filename;\n",
              "      div.appendChild(a);\n",
              "      a.click();\n",
              "      div.remove();\n",
              "    }\n",
              "  "
            ],
            "text/plain": [
              "<IPython.core.display.Javascript object>"
            ]
          },
          "metadata": {}
        },
        {
          "output_type": "display_data",
          "data": {
            "application/javascript": [
              "download(\"download_bec1b3e0-bec4-418a-9a1f-78f5b79aaac9\", \"ETIFormularioProfessores.xlsx\", 31675)"
            ],
            "text/plain": [
              "<IPython.core.display.Javascript object>"
            ]
          },
          "metadata": {}
        }
      ]
    },
    {
      "cell_type": "markdown",
      "source": [
        "# Estudantes Edutech - Organizando informações "
      ],
      "metadata": {
        "id": "LhRh9jkcSMna"
      }
    },
    {
      "cell_type": "code",
      "source": [
        "dados_estudantes = pd.read_csv('https://raw.githubusercontent.com/marcelopaludetto/arruma-formulario/main/2021-11-22_avaliacao_programa%20(respostas)%20-%20Respostas%20ao%20formul%C3%A1rio%201%20(1).csv?token=ASWPNC6N5FXVU6TKJX3L5FDB2THT6')"
      ],
      "metadata": {
        "id": "SBatuKTYQ798"
      },
      "execution_count": 102,
      "outputs": []
    },
    {
      "cell_type": "code",
      "source": [
        "dados_estudantes.columns = dados_estudantes.columns.str.replace(' ','_')\n",
        "dados_estudantes.columns = dados_estudantes.columns.str.replace(')','')\n",
        "dados_estudantes.columns = dados_estudantes.columns.str.replace('é','e')\n",
        "dados_estudantes.columns = dados_estudantes.columns.str.replace('á','a')\n",
        "dados_estudantes.columns = dados_estudantes.columns.str.replace('ê','e')\n",
        "dados_estudantes.columns = dados_estudantes.columns.str.replace('?','')\n",
        "dados_estudantes.columns = dados_estudantes.columns.str.replace('(','')\n",
        "dados_estudantes.columns = dados_estudantes.columns.str.replace('.','')"
      ],
      "metadata": {
        "id": "WWUpo1bnSWrO"
      },
      "execution_count": 103,
      "outputs": []
    },
    {
      "cell_type": "code",
      "source": [
        "dados_estudantes.Voce_e_estudante_de_qual_trilha.value_counts()"
      ],
      "metadata": {
        "id": "MYIUBBU2gbDB",
        "outputId": "af74c137-d1d7-4fae-83ef-e9d7bcbb1506",
        "colab": {
          "base_uri": "https://localhost:8080/"
        }
      },
      "execution_count": 106,
      "outputs": [
        {
          "output_type": "execute_result",
          "data": {
            "text/plain": [
              "Games e Animações - Nível 1     405\n",
              "Games e Animações - Nível 2     223\n",
              "Front-End com HTML e CSS        172\n",
              "Programação em Java              47\n",
              "Mobile baseado em JavaScript     41\n",
              "Programação em Python            41\n",
              "Ciência de Dados                 29\n",
              "Name: Voce_e_estudante_de_qual_trilha, dtype: int64"
            ]
          },
          "metadata": {},
          "execution_count": 106
        }
      ]
    },
    {
      "cell_type": "markdown",
      "source": [
        "## Coletando informação dos Estudantes de Games 1"
      ],
      "metadata": {
        "id": "_HvjK3vTkUPN"
      }
    },
    {
      "cell_type": "code",
      "source": [
        "EstudantesGames1 = dados_estudantes.query(\"Voce_e_estudante_de_qual_trilha == 'Games e Animações - Nível 1'\")\n",
        "EstudantesGames1 = EstudantesGames1.drop(['NOTA_concatenar','LABORATORIO_concatenar'],axis=1)\n",
        "EstudantesGames1 = EstudantesGames1.iloc[:,:12]\n",
        "EstudantesGames1.to_excel('EstudantesGames1.xlsx')"
      ],
      "metadata": {
        "id": "IIMjpu-fSXwZ"
      },
      "execution_count": 112,
      "outputs": []
    },
    {
      "cell_type": "markdown",
      "source": [
        "## Coletando informação dos Estudantes de Games 2\n"
      ],
      "metadata": {
        "id": "m_9f7BIAknDD"
      }
    },
    {
      "cell_type": "code",
      "source": [
        "EstudantesGames2 = dados_estudantes.query(\"Voce_e_estudante_de_qual_trilha == 'Games e Animações - Nível 2'\")\n",
        "aux = EstudantesGames2.iloc[:,:5]\n",
        "aux2 = EstudantesGames2.iloc[:,14:20]\n",
        "EstudantesGames2 = pd.concat([aux, aux2], axis=1)\n",
        "EstudantesGames2.to_excel('EstudantesGames2.xlsx')"
      ],
      "metadata": {
        "id": "Mqi8nkPxkqlG"
      },
      "execution_count": 117,
      "outputs": []
    },
    {
      "cell_type": "markdown",
      "source": [
        "## Coletando informação dos Estudantes de FrontEnd\n"
      ],
      "metadata": {
        "id": "C6tVVEr7kZ_w"
      }
    },
    {
      "cell_type": "code",
      "source": [
        "EstudantesFrontEnd = dados_estudantes.query(\"Voce_e_estudante_de_qual_trilha == 'Front-End com HTML e CSS'\")\n",
        "aux = EstudantesFrontEnd.iloc[:,:5]\n",
        "aux2 = EstudantesFrontEnd.iloc[:,20:25]\n",
        "EstudantesFrontEnd = pd.concat([aux, aux2], axis=1)\n",
        "EstudantesFrontEnd.to_excel('EstudantesFrontEnd.xlsx')"
      ],
      "metadata": {
        "id": "_4d5GgajlXod"
      },
      "execution_count": 119,
      "outputs": []
    },
    {
      "cell_type": "markdown",
      "source": [
        "## Coletando informação dos Estudantes de Mobile\n"
      ],
      "metadata": {
        "id": "xnTkbfdllwvq"
      }
    },
    {
      "cell_type": "code",
      "source": [
        "EstudantesMobile = dados_estudantes.query(\"Voce_e_estudante_de_qual_trilha == 'Mobile baseado em JavaScript'\")\n",
        "aux = EstudantesMobile.iloc[:,:5]\n",
        "aux2 = EstudantesMobile.iloc[:,25:30]\n",
        "EstudantesMobile = pd.concat([aux, aux2], axis=1)\n",
        "EstudantesMobile.to_excel('EstudantesMobile.xlsx')"
      ],
      "metadata": {
        "id": "yxp0giTQlzRY"
      },
      "execution_count": 120,
      "outputs": []
    },
    {
      "cell_type": "markdown",
      "source": [
        "## Coletando informação dos Estudantes de DataScience"
      ],
      "metadata": {
        "id": "BLqDyJcjl_Y3"
      }
    },
    {
      "cell_type": "code",
      "source": [
        "EstudantesDataScience = dados_estudantes.query(\"Voce_e_estudante_de_qual_trilha == 'Ciência de Dados'\")\n",
        "aux = EstudantesDataScience.iloc[:,:5]\n",
        "aux2 = EstudantesDataScience.iloc[:,30:35]\n",
        "EstudantesDataScience = pd.concat([aux, aux2], axis=1)\n",
        "EstudantesDataScience.to_excel('EstudantesDataScience.xlsx')"
      ],
      "metadata": {
        "id": "DZDwE0TvmCLU"
      },
      "execution_count": 122,
      "outputs": []
    },
    {
      "cell_type": "markdown",
      "source": [
        "## Coletando informação dos Estudantes de Python"
      ],
      "metadata": {
        "id": "lHNerP9smSGd"
      }
    },
    {
      "cell_type": "code",
      "source": [
        "EstudantesPython = dados_estudantes.query(\"Voce_e_estudante_de_qual_trilha == 'Programação em Python'\")\n",
        "aux = EstudantesPython.iloc[:,:5]\n",
        "aux2 = EstudantesPython.iloc[:,35:40]\n",
        "EstudantesPython = pd.concat([aux, aux2], axis=1)\n",
        "EstudantesPython.to_excel('EstudantesPython.xlsx')"
      ],
      "metadata": {
        "id": "eeHmH7hZmTpj"
      },
      "execution_count": 123,
      "outputs": []
    },
    {
      "cell_type": "markdown",
      "source": [
        "## Coletando informação dos Estudantes de Java"
      ],
      "metadata": {
        "id": "hIAo6fIwmdR-"
      }
    },
    {
      "cell_type": "code",
      "source": [
        "EstudantesJava = dados_estudantes.query(\"Voce_e_estudante_de_qual_trilha == 'Programação em Java'\")\n",
        "aux = EstudantesJava.iloc[:,:5]\n",
        "aux2 = EstudantesJava.iloc[:,40:]\n",
        "EstudantesJava = pd.concat([aux, aux2], axis=1)\n",
        "EstudantesJava.to_excel('EstudantesJava.xlsx')"
      ],
      "metadata": {
        "id": "KNadfiPOmbPy"
      },
      "execution_count": 126,
      "outputs": []
    },
    {
      "cell_type": "code",
      "source": [
        ""
      ],
      "metadata": {
        "id": "OxA4wdNtmpZZ"
      },
      "execution_count": null,
      "outputs": []
    }
  ]
}