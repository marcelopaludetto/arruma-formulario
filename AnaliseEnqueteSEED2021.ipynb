{
  "nbformat": 4,
  "nbformat_minor": 0,
  "metadata": {
    "colab": {
      "name": "AnaliseEnqueteSEED2021.ipynb",
      "provenance": [],
      "authorship_tag": "ABX9TyM4/5H8/dzleu8+gIs+xRzB",
      "include_colab_link": true
    },
    "kernelspec": {
      "name": "python3",
      "display_name": "Python 3"
    },
    "language_info": {
      "name": "python"
    }
  },
  "cells": [
    {
      "cell_type": "markdown",
      "metadata": {
        "id": "view-in-github",
        "colab_type": "text"
      },
      "source": [
        "<a href=\"https://colab.research.google.com/github/marcelopaludetto/arruma-formulario/blob/main/AnaliseEnqueteSEED2021.ipynb\" target=\"_parent\"><img src=\"https://colab.research.google.com/assets/colab-badge.svg\" alt=\"Open In Colab\"/></a>"
      ]
    },
    {
      "cell_type": "code",
      "metadata": {
        "id": "F56V0aR7XyLx"
      },
      "source": [
        "import pandas as pd"
      ],
      "execution_count": null,
      "outputs": []
    },
    {
      "cell_type": "code",
      "metadata": {
        "id": "2bI2UrNaX-7n"
      },
      "source": [
        "dados = pd.read_csv('/content/[2021_10_18]-ProfessoresRespostas.csv')"
      ],
      "execution_count": null,
      "outputs": []
    },
    {
      "cell_type": "code",
      "metadata": {
        "id": "-fEKzrEVYEAv"
      },
      "source": [
        "dados.columns = dados.columns.str.replace(' ','_')"
      ],
      "execution_count": null,
      "outputs": []
    },
    {
      "cell_type": "code",
      "metadata": {
        "id": "lQgynqUUbYcW"
      },
      "source": [
        "dados.columns = dados.columns.str.replace('é','e')"
      ],
      "execution_count": null,
      "outputs": []
    },
    {
      "cell_type": "code",
      "metadata": {
        "id": "Ir5GVpaWh0xH"
      },
      "source": [
        "dados.columns = dados.columns.str.replace('á','a')"
      ],
      "execution_count": null,
      "outputs": []
    },
    {
      "cell_type": "code",
      "metadata": {
        "id": "-zzFo6NxdJbh"
      },
      "source": [
        "dados.columns = dados.columns.str.replace('ê','e')"
      ],
      "execution_count": null,
      "outputs": []
    },
    {
      "cell_type": "code",
      "metadata": {
        "id": "9LPJscqsdLtT"
      },
      "source": [
        "dados.columns = dados.columns.str.replace('?','')"
      ],
      "execution_count": null,
      "outputs": []
    },
    {
      "cell_type": "code",
      "metadata": {
        "id": "6BhwMujWeSGL"
      },
      "source": [
        "dados.columns = dados.columns.str.replace('(','')"
      ],
      "execution_count": null,
      "outputs": []
    },
    {
      "cell_type": "code",
      "metadata": {
        "id": "bNwdpV79iCXt"
      },
      "source": [
        "dados.columns = dados.columns.str.replace('.','')"
      ],
      "execution_count": null,
      "outputs": []
    },
    {
      "cell_type": "code",
      "metadata": {
        "id": "tiSOdZqXeVeU"
      },
      "source": [
        "dados.columns = dados.columns.str.replace(')','')"
      ],
      "execution_count": null,
      "outputs": []
    },
    {
      "cell_type": "code",
      "metadata": {
        "colab": {
          "base_uri": "https://localhost:8080/"
        },
        "id": "vsw_V-hMbcCD",
        "outputId": "a6796420-e33a-4d41-eb9f-937b19fd9b00"
      },
      "source": [
        "dados.Voce_e_professor_de_qual_programa.value_counts()"
      ],
      "execution_count": null,
      "outputs": [
        {
          "output_type": "execute_result",
          "data": {
            "text/plain": [
              "Ensino de Tempo Integral    108\n",
              "Edutech                      81\n",
              "Name: Voce_e_professor_de_qual_programa, dtype: int64"
            ]
          },
          "metadata": {},
          "execution_count": 130
        }
      ]
    },
    {
      "cell_type": "code",
      "metadata": {
        "id": "j74peG2bdEi4"
      },
      "source": [
        "EdutechDados = dados.query(\"Voce_e_professor_de_qual_programa == 'Edutech'\")"
      ],
      "execution_count": null,
      "outputs": []
    },
    {
      "cell_type": "code",
      "metadata": {
        "colab": {
          "base_uri": "https://localhost:8080/"
        },
        "id": "wAp5YwWAe0JP",
        "outputId": "f0cbdb28-4703-429b-f110-37596751787e"
      },
      "source": [
        "EdutechDados.info()"
      ],
      "execution_count": null,
      "outputs": [
        {
          "output_type": "stream",
          "name": "stdout",
          "text": [
            "<class 'pandas.core.frame.DataFrame'>\n",
            "Int64Index: 81 entries, 0 to 187\n",
            "Columns: 112 entries, Timestamp to Quais_cursos_voce_mais_teve_dificuldade\n",
            "dtypes: float64(1), object(111)\n",
            "memory usage: 71.5+ KB\n"
          ]
        }
      ]
    },
    {
      "cell_type": "code",
      "metadata": {
        "id": "8dwUXLaSd9ZA"
      },
      "source": [
        "EdutechDadosHeliton = EdutechDados.query(\"Quem_e_o_seu_Professora_formadora\t== 'Heliton dos Reis Schnekemberg'\")"
      ],
      "execution_count": null,
      "outputs": []
    },
    {
      "cell_type": "code",
      "metadata": {
        "colab": {
          "base_uri": "https://localhost:8080/"
        },
        "id": "xljCxfR7d-9E",
        "outputId": "a8ed1fee-fa78-4fd0-8927-34c4f5299d98"
      },
      "source": [
        "EdutechDadosHeliton.info()"
      ],
      "execution_count": null,
      "outputs": [
        {
          "output_type": "stream",
          "name": "stdout",
          "text": [
            "<class 'pandas.core.frame.DataFrame'>\n",
            "Int64Index: 19 entries, 0 to 178\n",
            "Columns: 112 entries, Timestamp to Quais_cursos_voce_mais_teve_dificuldade\n",
            "dtypes: float64(1), object(111)\n",
            "memory usage: 16.8+ KB\n"
          ]
        }
      ]
    },
    {
      "cell_type": "code",
      "metadata": {
        "id": "xvaKQIByrXGS"
      },
      "source": [
        "EdutechDadosHeliton.Voce_esta_participando_da_formação"
      ],
      "execution_count": null,
      "outputs": []
    },
    {
      "cell_type": "code",
      "metadata": {
        "id": "-L2kwjCHsHaz"
      },
      "source": [
        "teste = [f'Voce_esta_participando_da_formação{i+1}' for i in range(7)]"
      ],
      "execution_count": null,
      "outputs": []
    },
    {
      "cell_type": "code",
      "metadata": {
        "colab": {
          "base_uri": "https://localhost:8080/"
        },
        "id": "JPRcIFIAukGL",
        "outputId": "87c2a6d0-2439-409f-8c85-ac12c365b186"
      },
      "source": [
        "EdutechDados.columns"
      ],
      "execution_count": null,
      "outputs": [
        {
          "output_type": "execute_result",
          "data": {
            "text/plain": [
              "Index(['Timestamp', 'Email_Address', 'Voce_e_professor_de_qual_programa',\n",
              "       'Quem_e_o_seu_Professora_formadora',\n",
              "       'Qual_e_a_trilha_que_voce_e_professora_',\n",
              "       'Voce_esta_participando_da_formação',\n",
              "       'Se_sim,_como_esta_sendo_sua_formação_Ela_te_ajuda_nas_aulas',\n",
              "       'Quais_são_as_suas_principais_dificuldades_nas_aulas_',\n",
              "       'Quais_cursos_voce_teve_mais_dificuldade_de_ensinar_para_os_alunos',\n",
              "       'Em_media,_quantos_alunos_participam_da_sua_meet_por_turma',\n",
              "       ...\n",
              "       'Quais_cursos_voce_teve_mais_dificuldade_de_ensinar_para_os_alunos7',\n",
              "       'Em_media,_quantos_estudantes_participam_das_suas_aulas',\n",
              "       'Ate_qual_curso_foi_conseguiu_avançar_com_os_seus_estudantes',\n",
              "       'O_que_gostaria_de_aprender_nas_formações_do_próximo_ano7',\n",
              "       'Qual_a_tua_opinião_sobre_a_Plataforma_Alura7',\n",
              "       'O_que_sente_falta_na_Plataforma_Alura7',\n",
              "       'Na_sua_visão,_qual_o_papel_da_Alura_na_disciplina_de_Pensamento_Computacional',\n",
              "       'Voce_utilizou_em_algum_momento_os_canais_de_contato_da_Alura,_se_sim,_como_foi_esse_atendimento7',\n",
              "       'Voce_aceita_participar_de_uma_conversa_remota_com_a_equipe_da_Alura7',\n",
              "       'Quais_cursos_voce_mais_teve_dificuldade'],\n",
              "      dtype='object', length=112)"
            ]
          },
          "metadata": {},
          "execution_count": 163
        }
      ]
    },
    {
      "cell_type": "code",
      "metadata": {
        "id": "P7vE_ezKsRfz"
      },
      "source": [
        "dictOfStuff = {}"
      ],
      "execution_count": null,
      "outputs": []
    },
    {
      "cell_type": "code",
      "metadata": {
        "colab": {
          "base_uri": "https://localhost:8080/",
          "height": 287
        },
        "id": "DyqahthAw4VF",
        "outputId": "c08fe4ec-4bc7-437c-bf89-cc3acf48faad"
      },
      "source": [
        "EdutechDados.dictOfStuff[teste[1]]"
      ],
      "execution_count": null,
      "outputs": [
        {
          "output_type": "error",
          "ename": "AttributeError",
          "evalue": "ignored",
          "traceback": [
            "\u001b[0;31m---------------------------------------------------------------------------\u001b[0m",
            "\u001b[0;31mAttributeError\u001b[0m                            Traceback (most recent call last)",
            "\u001b[0;32m<ipython-input-181-6e7d4418a8db>\u001b[0m in \u001b[0;36m<module>\u001b[0;34m()\u001b[0m\n\u001b[0;32m----> 1\u001b[0;31m \u001b[0mEdutechDados\u001b[0m\u001b[0;34m.\u001b[0m\u001b[0mdictOfStuff\u001b[0m\u001b[0;34m[\u001b[0m\u001b[0mteste\u001b[0m\u001b[0;34m[\u001b[0m\u001b[0;36m1\u001b[0m\u001b[0;34m]\u001b[0m\u001b[0;34m]\u001b[0m\u001b[0;34m\u001b[0m\u001b[0;34m\u001b[0m\u001b[0m\n\u001b[0m",
            "\u001b[0;32m/usr/local/lib/python3.7/dist-packages/pandas/core/generic.py\u001b[0m in \u001b[0;36m__getattr__\u001b[0;34m(self, name)\u001b[0m\n\u001b[1;32m   5139\u001b[0m             \u001b[0;32mif\u001b[0m \u001b[0mself\u001b[0m\u001b[0;34m.\u001b[0m\u001b[0m_info_axis\u001b[0m\u001b[0;34m.\u001b[0m\u001b[0m_can_hold_identifiers_and_holds_name\u001b[0m\u001b[0;34m(\u001b[0m\u001b[0mname\u001b[0m\u001b[0;34m)\u001b[0m\u001b[0;34m:\u001b[0m\u001b[0;34m\u001b[0m\u001b[0;34m\u001b[0m\u001b[0m\n\u001b[1;32m   5140\u001b[0m                 \u001b[0;32mreturn\u001b[0m \u001b[0mself\u001b[0m\u001b[0;34m[\u001b[0m\u001b[0mname\u001b[0m\u001b[0;34m]\u001b[0m\u001b[0;34m\u001b[0m\u001b[0;34m\u001b[0m\u001b[0m\n\u001b[0;32m-> 5141\u001b[0;31m             \u001b[0;32mreturn\u001b[0m \u001b[0mobject\u001b[0m\u001b[0;34m.\u001b[0m\u001b[0m__getattribute__\u001b[0m\u001b[0;34m(\u001b[0m\u001b[0mself\u001b[0m\u001b[0;34m,\u001b[0m \u001b[0mname\u001b[0m\u001b[0;34m)\u001b[0m\u001b[0;34m\u001b[0m\u001b[0;34m\u001b[0m\u001b[0m\n\u001b[0m\u001b[1;32m   5142\u001b[0m \u001b[0;34m\u001b[0m\u001b[0m\n\u001b[1;32m   5143\u001b[0m     \u001b[0;32mdef\u001b[0m \u001b[0m__setattr__\u001b[0m\u001b[0;34m(\u001b[0m\u001b[0mself\u001b[0m\u001b[0;34m,\u001b[0m \u001b[0mname\u001b[0m\u001b[0;34m:\u001b[0m \u001b[0mstr\u001b[0m\u001b[0;34m,\u001b[0m \u001b[0mvalue\u001b[0m\u001b[0;34m)\u001b[0m \u001b[0;34m->\u001b[0m \u001b[0;32mNone\u001b[0m\u001b[0;34m:\u001b[0m\u001b[0;34m\u001b[0m\u001b[0;34m\u001b[0m\u001b[0m\n",
            "\u001b[0;31mAttributeError\u001b[0m: 'DataFrame' object has no attribute 'dictOfStuff'"
          ]
        }
      ]
    },
    {
      "cell_type": "code",
      "metadata": {
        "colab": {
          "base_uri": "https://localhost:8080/"
        },
        "id": "4ivMHWUrsSIe",
        "outputId": "0406d8fc-ad46-4ef2-8804-166fd252f6c9"
      },
      "source": [
        "EdutechDadosHeliton.Voce_esta_participando_da_formação.fillna(EdutechDadosHeliton[teste[3]])"
      ],
      "execution_count": null,
      "outputs": [
        {
          "output_type": "execute_result",
          "data": {
            "text/plain": [
              "0      NaN\n",
              "1      Sim\n",
              "2      NaN\n",
              "3      NaN\n",
              "4      Sim\n",
              "5      NaN\n",
              "6      NaN\n",
              "7      NaN\n",
              "8      NaN\n",
              "9      Não\n",
              "10     NaN\n",
              "15     NaN\n",
              "20     NaN\n",
              "22     NaN\n",
              "71     NaN\n",
              "72     NaN\n",
              "176    Sim\n",
              "177    NaN\n",
              "178    NaN\n",
              "Name: Voce_esta_participando_da_formação, dtype: object"
            ]
          },
          "metadata": {},
          "execution_count": 174
        }
      ]
    },
    {
      "cell_type": "code",
      "metadata": {
        "id": "dKiiWoWBvxRO"
      },
      "source": [
        ""
      ],
      "execution_count": null,
      "outputs": []
    }
  ]
}